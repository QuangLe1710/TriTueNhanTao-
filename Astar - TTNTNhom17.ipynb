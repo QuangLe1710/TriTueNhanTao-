{
 "cells": [
  {
   "cell_type": "code",
   "metadata": {
    "ExecuteTime": {
     "end_time": "2024-12-27T04:58:55.116950Z",
     "start_time": "2024-12-27T04:58:55.088953Z"
    }
   },
   "source": [
    "graph = {\n",
    "    'A': [('B', 9, 15), ('C', 7, 6), ('E' , 13 , 8), ('D' , 20 ,7)],\n",
    "    'B': [('G', 6, 10)],\n",
    "    'C': [('G', 9, 10), ('E', 4, 8)],\n",
    "    'D': [('F', 4, 12), ('I' , 6 , 4 )],\n",
    "    'E': [('I', 3, 4)],\n",
    "    'I': [('Z', 5, 0), ('H', 9, 2)] ,\n",
    "    'G': [('H', 5, 2)],\n",
    "    'H': [('E', 4, 8), ('Z', 6, 0)]\n",
    "}"
   ],
   "outputs": [],
   "execution_count": 2
  },
  {
   "cell_type": "code",
   "metadata": {
    "ExecuteTime": {
     "end_time": "2024-12-27T04:58:57.665636Z",
     "start_time": "2024-12-27T04:58:57.626628Z"
    }
   },
   "source": [
    "def h(node):\n",
    "    # Hàm tính h(n) - ở đây mình sẽ giả sử h(n) là chi phí trực tiếp từ n đến đích Z\n",
    "    h = {\n",
    "        'A': 14,\n",
    "        'B': 15,\n",
    "        'C': 6,\n",
    "        'D': 7,\n",
    "        'E': 8,\n",
    "        'F': 12,\n",
    "        'Z': 0,\n",
    "        'G': 10,\n",
    "        'H': 2,\n",
    "        'I': 4 \n",
    "    }\n",
    "    return h[node]\n",
    "\n",
    "# Hàm truy vết đường đi cha con\n",
    "def print_path_and_cost(start, goal, parent, g):\n",
    "    path = []\n",
    "    current = goal\n",
    "    while current != start:\n",
    "        path.append(current)\n",
    "        current = parent[current]\n",
    "    path.append(start)\n",
    "    path.reverse()\n",
    "    print(\"Đường đi:\", ' -> '.join(path))\n",
    "    print(\"C(p) = \", g[goal])\n",
    "\n",
    "\n",
    "def A_star(graph, start, goals):\n",
    "    MO = [start]  # Tập đỉnh mở, ban đầu chứa đỉnh start\n",
    "    DONG = []  # Tập đỉnh đã xét, ban đầu rỗng\n",
    "    g = {start: 0}  # Chi phí từ start đến các đỉnh khác\n",
    "    f = {start: h(start)}  # Giá trị f(n) cho mỗi đỉnh\n",
    "    parent = {}  # Lưu trữ cha của mỗi đỉnh\n",
    "\n",
    "    while MO:\n",
    "        # Chọn đỉnh n có f(n) nhỏ nhất từ tập MO\n",
    "        min_f = float('inf')\n",
    "        min_node = None\n",
    "        for node in MO:\n",
    "            if f[node] < min_f:\n",
    "                min_f = f[node]\n",
    "                min_node = node\n",
    "        n = min_node\n",
    "\n",
    "        if n in goals:\n",
    "            # In ra đường đi và kết thúc thuật toán\n",
    "            print_path_and_cost(start, n, parent, g)\n",
    "            print(parent)\n",
    "            return True\n",
    "\n",
    "        MO.remove(n)  # Xóa đỉnh n khỏi tập MO\n",
    "        DONG.append(n)  # Thêm đỉnh n vào tập DONG\n",
    "\n",
    "        for m, cost_g, cost_h in graph.get(n, []):\n",
    "            cost_g_new = g[n] + cost_g  # Chi phí mới từ start đến m\n",
    "            if m not in MO and m not in DONG:\n",
    "                # Mở rộng đỉnh m\n",
    "                g[m] = cost_g_new\n",
    "                f[m] = g[m] + cost_h\n",
    "                parent[m] = n\n",
    "                MO.append(m)\n",
    "            elif m in MO and g[m] > cost_g_new:\n",
    "                # Cập nhật đỉnh m nếu có chi phí mới tốt hơn\n",
    "                g[m] = cost_g_new\n",
    "                f[m] = g[m] + cost_h\n",
    "                parent[m] = n\n",
    "\n",
    "    return False  # Không tìm thấy đường đi đến đỉnh đích"
   ],
   "outputs": [],
   "execution_count": 3
  },
  {
   "cell_type": "code",
   "metadata": {
    "ExecuteTime": {
     "end_time": "2024-12-27T04:59:03.453538Z",
     "start_time": "2024-12-27T04:59:03.420536Z"
    }
   },
   "source": [
    "print(\"A*\")\n",
    "A_star(graph, 'A', ['Z'])"
   ],
   "outputs": [
    {
     "name": "stdout",
     "output_type": "stream",
     "text": [
      "A*\n",
      "Đường đi: A -> C -> E -> I -> Z\n",
      "C(p) =  19\n",
      "{'B': 'A', 'C': 'A', 'E': 'C', 'D': 'A', 'G': 'C', 'I': 'E', 'Z': 'I', 'H': 'I'}\n"
     ]
    },
    {
     "data": {
      "text/plain": [
       "True"
      ]
     },
     "execution_count": 4,
     "metadata": {},
     "output_type": "execute_result"
    }
   ],
   "execution_count": 4
  }
 ],
 "metadata": {
  "kernelspec": {
   "display_name": "base",
   "language": "python",
   "name": "python3"
  },
  "language_info": {
   "codemirror_mode": {
    "name": "ipython",
    "version": 3
   },
   "file_extension": ".py",
   "mimetype": "text/x-python",
   "name": "python",
   "nbconvert_exporter": "python",
   "pygments_lexer": "ipython3",
   "version": "3.11.7"
  }
 },
 "nbformat": 4,
 "nbformat_minor": 2
}
